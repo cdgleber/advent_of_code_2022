{
 "cells": [
  {
   "cell_type": "code",
   "execution_count": 1,
   "id": "1a41526b",
   "metadata": {},
   "outputs": [],
   "source": [
    "import os\n",
    "f = '2.txt'\n",
    "f_file = open(f, encoding='utf-8-sig')\n",
    "puzzle_input = f_file.read()\n",
    "values = puzzle_input.split('\\n')"
   ]
  },
  {
   "cell_type": "code",
   "execution_count": 3,
   "id": "ec0cfd08",
   "metadata": {},
   "outputs": [],
   "source": [
    "games = []\n",
    "for value in values:\n",
    "    games.append(value.split(' '))"
   ]
  },
  {
   "cell_type": "code",
   "execution_count": 11,
   "id": "05849c8a",
   "metadata": {},
   "outputs": [],
   "source": [
    "results = []\n",
    "for game in games:\n",
    "    if game[0]=='A': #rock\n",
    "        if game[1]=='X': #rock 1 draw 4\n",
    "            results.append(4)\n",
    "        elif game[1]=='Y': #paper 2 win 6\n",
    "            results.append(8)\n",
    "        elif game[1]=='Z': #scissors 3 loss 0\n",
    "            results.append(3)\n",
    "    elif game[0]=='B': #paper\n",
    "        if game[1]=='X': #rock 1 loss 0\n",
    "            results.append(1)\n",
    "        elif game[1]=='Y': #paper 2 draw 3\n",
    "            results.append(5)\n",
    "        elif game[1]=='Z': #scissors 3 win 6\n",
    "            results.append(9)\n",
    "    elif game[0]=='C': #scissors\n",
    "        if game[1]=='X': #rock 1 win 6 \n",
    "            results.append(7)\n",
    "        elif game[1]=='Y': #paper 2 loss 0\n",
    "            results.append(2)\n",
    "        elif game[1]=='Z': #scissors 3 draw 3\n",
    "            results.append(6) "
   ]
  },
  {
   "cell_type": "code",
   "execution_count": 12,
   "id": "a3a58c91",
   "metadata": {},
   "outputs": [
    {
     "data": {
      "text/plain": [
       "13809"
      ]
     },
     "execution_count": 12,
     "metadata": {},
     "output_type": "execute_result"
    }
   ],
   "source": [
    "sum(results)"
   ]
  },
  {
   "cell_type": "code",
   "execution_count": 13,
   "id": "6854cdfd",
   "metadata": {},
   "outputs": [
    {
     "data": {
      "text/plain": [
       "12316"
      ]
     },
     "execution_count": 13,
     "metadata": {},
     "output_type": "execute_result"
    }
   ],
   "source": [
    "results = []\n",
    "for game in games:\n",
    "    if game[0]=='A': #rock\n",
    "        if game[1]=='X': #loss 0 scissors 3\n",
    "            results.append(3)\n",
    "        elif game[1]=='Y': #rock 1 draw 3\n",
    "            results.append(4)\n",
    "        elif game[1]=='Z': #win 6 paper 2\n",
    "            results.append(8)\n",
    "    elif game[0]=='B': #paper\n",
    "        if game[1]=='X': #loss 0 rock 1\n",
    "            results.append(1)\n",
    "        elif game[1]=='Y': #draw 3 paper 2\n",
    "            results.append(5)\n",
    "        elif game[1]=='Z': #win 6 scissors 3\n",
    "            results.append(9)\n",
    "    elif game[0]=='C': #scissors\n",
    "        if game[1]=='X': #loss 0 paper 2\n",
    "            results.append(2)\n",
    "        elif game[1]=='Y': #draw 3 scissors 3\n",
    "            results.append(6)\n",
    "        elif game[1]=='Z': #win 6 rock 1\n",
    "            results.append(7)\n",
    "sum(results)"
   ]
  },
  {
   "cell_type": "code",
   "execution_count": null,
   "id": "e939c7fe",
   "metadata": {},
   "outputs": [],
   "source": []
  }
 ],
 "metadata": {
  "kernelspec": {
   "display_name": "Python 3 (ipykernel)",
   "language": "python",
   "name": "python3"
  },
  "language_info": {
   "codemirror_mode": {
    "name": "ipython",
    "version": 3
   },
   "file_extension": ".py",
   "mimetype": "text/x-python",
   "name": "python",
   "nbconvert_exporter": "python",
   "pygments_lexer": "ipython3",
   "version": "3.10.4"
  }
 },
 "nbformat": 4,
 "nbformat_minor": 5
}
